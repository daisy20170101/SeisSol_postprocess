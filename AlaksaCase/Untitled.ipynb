{
 "cells": [
  {
   "cell_type": "code",
   "execution_count": 2,
   "metadata": {},
   "outputs": [
    {
     "name": "stdout",
     "output_type": "stream",
     "text": [
      "load successfully!\n"
     ]
    }
   ],
   "source": [
    "# load module\n",
    "%matplotlib notebook\n",
    "# import instaseis\n",
    "import numpy as np\n",
    "import matplotlib.pyplot as plt\n",
    "import h5py\n",
    "\n",
    "# download from https://pypi.org/project/seissolxdmf/\n",
    "import seissolxdmf\n",
    "\n",
    "import pyproj\n",
    "import scipy.io as sio\n",
    "import matplotlib.tri as tri\n",
    "# from mpl_toolkits.basemap import Basemap\n",
    "# from scipy import spatial\n",
    "from netCDF4 import Dataset\n",
    "\n",
    "print('load successfully!')"
   ]
  },
  {
   "cell_type": "code",
   "execution_count": null,
   "metadata": {},
   "outputs": [],
   "source": [
    "# import instaseis\n",
    "from obspy import read\n",
    "from obspy.taup import TauPyModel as taup\n",
    "from obspy.taup.taup_geo import calc_dist_azi as calc_dist_azi\n",
    "from obspy.clients.fdsn import Client\n",
    "from obspy.signal.cross_correlation import correlate\n",
    "from obspy.signal.cross_correlation import xcorr_max\n",
    "\n",
    "\n",
    "# plot regional seismic network and compare seismograph\n",
    "from obspy.clients.fdsn import Client\n",
    "from obspy.geodetics import gps2dist_azimuth\n",
    "from obspy import UTCDateTime\n",
    "from obspy.signal.rotate import rotate2zne\n",
    "from obspy.core.stream import Stream\n",
    "from obspy import read,read_inventory\n",
    "# from obspy.signal.cross_correlation import xcorr\n",
    "from obspy.signal.rotate import rotate_ne_rt\n",
    "from obspy import Trace, Stream\n",
    "\n",
    "cl_iris  = Client(\"IRIS\")\n",
    "nw = ['AK','AK','AK','NP','NP']       # network\n",
    "sta= ['CHN','S15K','S19K','8051','8035']      # station\n",
    "ch = ['BN*','HN*','HN*','HN*','HN*']        # channel\n",
    "\n",
    "# nw = ['AV','AV','AK','AK','AK']       # network\n",
    "# sta= ['VNKR','DOL','S15K','CHN','R16K']  # station\n",
    "# ch = ['EHZ','BHZ','HNZ','BHZ','BHZ']      # channel\n",
    "# Event catalog\n",
    "cat = cl_iris.get_events(minmagnitude=8.1,maxmagnitude=8.3, starttime=UTCDateTime(2021,7,28),endtime=UTCDateTime(2021,7,30)) # Y\n",
    "event = cat[0]\n",
    "print(cat)  \n",
    "\n",
    "start = event.origins[0].time\n",
    "end = start + 200\n",
    "\n",
    "waveform = Stream()\n",
    "\n",
    "for num in np.arange(0,3):\n",
    "# for num in np.arange(1,2):\n",
    "    if (num == 0):\n",
    "        inv = cl_iris.get_stations(network=nw[num],station=sta[num],location='',channel=ch[num],starttime=start,endtime=end,level=\"response\")\n",
    "        inventory  = inv\n",
    "        st = cl_iris.get_waveforms(network=nw[num],station=sta[num],location='',channel=ch[num],starttime=start,endtime=end)\n",
    "    else:\n",
    "        inv = cl_iris.get_stations(network=nw[num],station=sta[num],location='',channel=ch[num],starttime=start,endtime=end,level=\"response\")\n",
    "        inventory  += inv\n",
    "        st = cl_iris.get_waveforms(network=nw[num],station=sta[num],location='',channel=ch[num],starttime=start,endtime=end)\n",
    "    st.remove_response(inventory=inv,output='acc') \n",
    "    st.detrend('simple')\n",
    "    waveform += st\n",
    "#     print(\"Station %f: DONE \" %(str(sta[num])))\n",
    "print(waveform)"
   ]
  },
  {
   "cell_type": "code",
   "execution_count": null,
   "metadata": {},
   "outputs": [],
   "source": [
    "sta= ['CHN','S15K']\n",
    "ch = ['BNE','BNN','BNZ']\n",
    "# ista = ['03','13']\n",
    "ista = ['14','16']\n",
    "\n",
    "modelname  = 'alkR057-TP60'\n",
    "# icore = ['16','29'] # tp20\n",
    "icore = ['64','12']\n",
    "modelname = 'alkR057-2hz'\n",
    "foldername = 'result2hz/'\n",
    "# modelname  = 'alkR057-TP64'\n",
    "# icore = ['47','30']\n",
    "\n",
    "\n",
    "waveform_syn = Stream()\n",
    "for num in range(len(sta)):\n",
    "    if num < 10:\n",
    "        filename = foldername +modelname + '-receiver-000%s-000%s.dat'%(ista[num],icore[num])\n",
    "#         if num == 0:\n",
    "        t, vx, vy, vz = np.loadtxt(filename, comments='#', skiprows=2,usecols=(0,7,8,9),unpack=True)\n",
    "        st = Stream([Trace(vx),Trace(vy),Trace(vz)])    \n",
    "        for tr_num in range(3):\n",
    "            st[tr_num].stats['sampling_rate'] = 200\n",
    "            st[tr_num].stats['network'] = 'SeisSol'\n",
    "            st[tr_num].stats['station'] = sta[num] \n",
    "            st[tr_num].stats['channel'] = ch[tr_num]\n",
    "        waveform_syn += st\n"
   ]
  },
  {
   "cell_type": "code",
   "execution_count": null,
   "metadata": {},
   "outputs": [],
   "source": [
    "f1 = 0.05\n",
    "f2 = 0.50\n",
    "\n",
    "waveform_syn1 = waveform_syn.copy()\n",
    "waveform_syn1.differentiate()\n",
    "waveform_syn1.filter('bandpass',freqmin=f1,freqmax=f2, corners=4, zerophase=True)\n",
    "\n",
    "waveform1 = waveform.copy()\n",
    "waveform1.filter('bandpass',freqmin=f1,freqmax=f2, corners=4, zerophase=True)\n",
    "   \n",
    "num = 1 # Station s15k\n",
    "\n",
    "plt.figure(figsize=(6, 4))\n",
    "\n",
    "ax1 = plt.subplot(311)\n",
    "ax1.plot(waveform1.select(station=sta[num],channel='HNE')[0].times(),waveform1.select(station=sta[num],channel='HNE')[0].data,'k',label='%s - HNE' %(sta[num]))\n",
    "ax1.plot(waveform_syn1.select(channel='BNE')[0].times(),waveform_syn1.select(channel='BNE')[0].data,'r',label='Syn-%s' %(sta[num]))\n",
    "ax1.legend()\n",
    "ax1.set_xticks([])\n",
    "\n",
    "ax2 = plt.subplot(312)\n",
    "ax2.plot(waveform1.select(station=sta[num],channel='HNN')[0].times(),waveform1.select(station=sta[num],channel='HNN')[0].data,'k',label='%s - HNN' %(sta[num]))\n",
    "ax2.plot(waveform_syn1.select(channel='BNN')[0].times(),waveform_syn1.select(channel='BNN')[0].data,'r',label='Syn-%s' %(sta[num]))\n",
    "ax2.legend()\n",
    "ax2.set_xticks([])\n",
    "\n",
    "ax3 = plt.subplot(313)\n",
    "ax3.plot(waveform1.select(station=sta[num],channel='HNZ')[0].times(),waveform1.select(station=sta[num],channel='HNZ')[0].data,'k',label='%s - HNZ' %(sta[num]))\n",
    "ax3.plot(waveform_syn1.select(channel='BNZ')[0].times(),waveform_syn1.select(channel='BNZ')[0].data,'r',label='Syn-%s' %(sta[num]))\n",
    "ax3.legend()\n",
    "ax3.set_xticks([0,50,100,150])\n",
    "\n",
    "ax3.set_xlabel('Time [s]')\n",
    "\n",
    "\n",
    "\n",
    "# ax3.set_xlabel('Time [s]')\n",
    "\n",
    "plt.show()\n",
    "outname = 'seismo_'+modelname+'_'+ sta[num] +'.png'\n",
    "plt.savefig(outname,dpi=200,format='png',transparent=False)"
   ]
  },
  {
   "cell_type": "code",
   "execution_count": null,
   "metadata": {},
   "outputs": [],
   "source": [
    "      \n",
    "num = 0 # Station CHN\n",
    "\n",
    "plt.figure(figsize=(6, 4))\n",
    "\n",
    "ax1 = plt.subplot(311)\n",
    "ax1.plot(waveform1.select(station=sta[num],channel='BNE')[0].times(),waveform1.select(station=sta[num],channel='BNE')[0].data,'k',label='%s - BNE' %(sta[num]))\n",
    "ax1.plot(waveform_syn1.select(channel='BNE')[0].times(),waveform_syn1.select(channel='BNE')[0].data,'r',label='Syn-%s' %(sta[num]))\n",
    "ax1.legend()\n",
    "ax1.set_xticks([])\n",
    "\n",
    "ax2 = plt.subplot(312)\n",
    "ax2.plot(waveform1.select(station=sta[num],channel='BNN')[0].times(),waveform1.select(station=sta[num],channel='BNN')[0].data,'k',label='%s - BNN' %(sta[num]))\n",
    "ax2.plot(waveform_syn1.select(channel='BNN')[0].times(),waveform_syn1.select(channel='BNN')[0].data,'r',label='Syn-%s' %(sta[num]))\n",
    "ax2.legend()\n",
    "ax2.set_xticks([])\n",
    "\n",
    "ax3 = plt.subplot(313)\n",
    "ax3.plot(waveform1.select(station=sta[num],channel='BNZ')[0].times(),waveform1.select(station=sta[num],channel='BNZ')[0].data,'k',label='%s - BNZ' %(sta[num]))\n",
    "ax3.plot(waveform_syn1.select(channel='BNZ')[0].times(),waveform_syn1.select(channel='BNZ')[0].data,'r',label='Syn-%s' %(sta[num]))\n",
    "ax3.legend()\n",
    "ax3.set_xticks([0,50,100,150])\n",
    "\n",
    "ax3.set_xlabel('Time [s]')\n",
    "\n",
    "plt.show()\n",
    "\n",
    "outname = 'seismo_'+modelname+'_'+ sta[num] +'.png'\n",
    "plt.savefig(outname,dpi=200,format='png',transparent=False)"
   ]
  },
  {
   "cell_type": "code",
   "execution_count": 18,
   "metadata": {},
   "outputs": [],
   "source": [
    "# cut data\n",
    "\n",
    "## folder and model \n",
    "modelname = 'tp20m'\n",
    "foldername = '/import/freenas-m-05-seissol/dli/Alaska2021/result4/'\n",
    "\n",
    "## initialize seissolxdmf\n",
    "fn = foldername + modelname +'-fault.xdmf'\n",
    "# initiate class\n",
    "sx = seissolxdmf.seissolxdmf(fn)"
   ]
  },
  {
   "cell_type": "code",
   "execution_count": 37,
   "metadata": {},
   "outputs": [
    {
     "name": "stdout",
     "output_type": "stream",
     "text": [
      "[[  2325     62      0]\n",
      " [     1      2     21]\n",
      " [    31      2      1]\n",
      " ...\n",
      " [303002 303114 303047]\n",
      " [303114 303002 303003]\n",
      " [303049 303115 303116]]\n"
     ]
    }
   ],
   "source": [
    "ndt = sx.ReadNdt()-1\n",
    "    # ndt=90\n",
    "xyz = sx.ReadGeometry()\n",
    "connect = sx.ReadConnect()\n",
    "print(connect)"
   ]
  },
  {
   "cell_type": "code",
   "execution_count": 33,
   "metadata": {},
   "outputs": [
    {
     "name": "stdout",
     "output_type": "stream",
     "text": [
      "(1, 604041)\n"
     ]
    }
   ],
   "source": [
    "asl1 = np.zeros((1,604041))\n",
    "td1 = asl1\n",
    "pn1 = asl1\n",
    "\n",
    "asl= sx.ReadData('ASl',ndt)\n",
    "td = sx.ReadData('Td0',ndt)\n",
    "pn = sx.ReadData('Pn0',ndt)\n",
    "asl1[0,:] = asl\n",
    "td1[0,:] = td\n",
    "pn1[0,:] = pn\n",
    "\n",
    "print(asl1.shape)"
   ]
  },
  {
   "cell_type": "code",
   "execution_count": 40,
   "metadata": {},
   "outputs": [
    {
     "data": {
      "text/plain": [
       "<HDF5 dataset \"pn\": shape (1, 604041), type \"<f8\">"
      ]
     },
     "execution_count": 40,
     "metadata": {},
     "output_type": "execute_result"
    }
   ],
   "source": [
    "## save data\n",
    "hf = h5py.File('tp20m-fault.h5', 'w')\n",
    "hf.create_dataset('xyz', xyz.shape,data=xyz)\n",
    "hf.create_dataset('connect', connect.shape, data=connect)\n",
    "hf.create_dataset('asl', asl1.shape,data=asl1)\n",
    "hf.create_dataset('td', td1.shape,data=td1)\n",
    "hf.create_dataset('pn', pn1.shape,data=pn1)"
   ]
  },
  {
   "cell_type": "code",
   "execution_count": 41,
   "metadata": {},
   "outputs": [
    {
     "data": {
      "text/plain": [
       "<KeysViewHDF5 ['asl', 'connect', 'pn', 'td', 'xyz']>"
      ]
     },
     "execution_count": 41,
     "metadata": {},
     "output_type": "execute_result"
    }
   ],
   "source": [
    "hf.keys()"
   ]
  },
  {
   "cell_type": "code",
   "execution_count": 36,
   "metadata": {},
   "outputs": [
    {
     "name": "stdout",
     "output_type": "stream",
     "text": [
      "(1, 604041) (303117, 3) (604041, 3)\n"
     ]
    }
   ],
   "source": [
    "print(asl1.shape,xyz.shape,connect.shape)"
   ]
  },
  {
   "cell_type": "code",
   "execution_count": 15,
   "metadata": {},
   "outputs": [
    {
     "data": {
      "text/plain": [
       "<HDF5 dataset \"W\": shape (112784,), type \"<f8\">"
      ]
     },
     "execution_count": 15,
     "metadata": {},
     "output_type": "execute_result"
    }
   ],
   "source": [
    "fsurf = foldername + modelname +'-surface.xdmf'\n",
    "sxsurf = seissolxdmf.seissolxdmf(fsurf)\n",
    "ndt = sxsurf.ReadNdt()-1\n",
    "    # ndt=90\n",
    "xyz = sxsurf.ReadGeometry()\n",
    "connect = sxsurf.ReadConnect()\n",
    "\n",
    "slpz = sxsurf.ReadData('W',ndt)\n",
    "slpy = sxsurf.ReadData('V',ndt)\n",
    "slpx = sxsurf.ReadData('U',ndt)\n",
    "\n",
    "hf = h5py.File('tp20m-surface.h5', 'w')\n",
    "hf.create_dataset('xyz', data=xyz)\n",
    "hf.create_dataset('connect', data=connect)\n",
    "hf.create_dataset('U', data=slpx)\n",
    "hf.create_dataset('V', data=slpy)\n",
    "hf.create_dataset('W', data=slpz)"
   ]
  }
 ],
 "metadata": {
  "kernelspec": {
   "display_name": "Python 3 (ipykernel)",
   "language": "python",
   "name": "python3"
  },
  "language_info": {
   "codemirror_mode": {
    "name": "ipython",
    "version": 3
   },
   "file_extension": ".py",
   "mimetype": "text/x-python",
   "name": "python",
   "nbconvert_exporter": "python",
   "pygments_lexer": "ipython3",
   "version": "3.8.16"
  }
 },
 "nbformat": 4,
 "nbformat_minor": 4
}
